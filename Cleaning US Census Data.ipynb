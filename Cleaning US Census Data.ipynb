{
 "cells": [
  {
   "cell_type": "markdown",
   "metadata": {},
   "source": [
    "# Cleaning US Census Data"
   ]
  },
  {
   "cell_type": "markdown",
   "metadata": {},
   "source": [
    "You just got hired as a Data Analyst at the Census Bureau, which collects census data and creates interesting visualizations and insights from it.\n",
    "\n",
    "The person who had your job before you left you all the data they had for the most recent census. It is in multiple `csv` files. They didn't use pandas, they would just look through these `csv` files manually whenever they wanted to find something. Sometimes they would copy and paste certain numbers into Excel to make charts.\n",
    "\n",
    "The thought of it makes you shiver. This is not scalable or repeatable.\n",
    "\n",
    "Your boss wants you to make some scatterplots and histograms by the end of the day. Can you get this data into `pandas` and into reasonable shape so that you can make these histograms?"
   ]
  },
  {
   "cell_type": "markdown",
   "metadata": {},
   "source": [
    "## Inspect the Data!"
   ]
  },
  {
   "cell_type": "markdown",
   "metadata": {},
   "source": [
    "1. The first visualization your boss wants you to make is a scatterplot that shows average income in a state vs proportion of women in that state.\n",
    "\n",
    "   Open some of the census `csv` files that came with the kit you downloaded. How are they named? What kind of information do they hold? Will they help us make this graph?"
   ]
  },
  {
   "cell_type": "code",
   "execution_count": 2,
   "metadata": {},
   "outputs": [
    {
     "name": "stdout",
     "output_type": "stream",
     "text": [
      "   Unnamed: 0           State  TotalPop Hispanic   White   Black Native  \\\n",
      "0           0    Rhode Island   1053661   13.36%  74.33%   5.68%  0.35%   \n",
      "1           1  South Carolina   4777576    5.06%  62.89%  28.75%  0.29%   \n",
      "2           2    South Dakota    843190    3.24%  82.50%   1.42%  9.42%   \n",
      "3           3       Tennessee   6499615    4.72%  73.49%  18.28%  0.23%   \n",
      "4           4           Texas  26538614   38.05%  44.69%  11.65%  0.26%   \n",
      "\n",
      "   Asian Pacific       Income            GenderPop  \n",
      "0  3.25%   0.04%  $59,125.27       510388M_543273F  \n",
      "1  1.25%   0.05%  $46,296.81     2322409M_2455167F  \n",
      "2  1.02%   0.04%  $51,805.41       423477M_419713F  \n",
      "3  1.41%   0.04%  $47,328.08     3167756M_3331859F  \n",
      "4  3.67%   0.07%  $55,874.52   13171316M_13367298F  \n",
      "   Unnamed: 0          State  TotalPop Hispanic   White   Black Native  Asian  \\\n",
      "0           0           Utah   2903379   13.47%  79.41%   1.02%  1.08%  2.20%   \n",
      "1           1        Vermont    626604    1.61%  93.98%   0.98%  0.30%  1.24%   \n",
      "2           2       Virginia   8256630    8.01%  63.27%  20.18%  0.21%  5.46%   \n",
      "3           3     Washington   6985464   11.14%  72.04%   3.38%  1.41%  7.02%   \n",
      "4           4  West Virginia   1851420    1.29%  92.18%   3.66%  0.15%  0.68%   \n",
      "\n",
      "  Pacific       Income          GenderPop  \n",
      "0   0.83%  $63,488.92   1459229M_1444150F  \n",
      "1   0.03%  $55,602.97     308573M_318031F  \n",
      "2   0.06%  $72,866.01   4060948M_4195682F  \n",
      "3   0.61%  $64,493.77   3487725M_3497739F  \n",
      "4   0.03%  $41,437.11     913631M_937789F  \n",
      "   Unnamed: 0          State  TotalPop Hispanic   White   Black Native  Asian  \\\n",
      "0           0       Maryland   5930538    8.47%  52.68%  30.68%  0.20%  5.33%   \n",
      "1           1  Massachusetts   6705586   11.46%  73.04%   6.83%  0.13%  5.84%   \n",
      "2           2       Michigan   9900571    4.63%  72.38%  17.63%  0.48%  2.42%   \n",
      "3           3      Minnesota   5419171    5.15%  81.43%   5.66%  1.07%  4.16%   \n",
      "4           4    Mississippi   2988081    2.84%  53.29%  41.49%  0.39%  0.88%   \n",
      "\n",
      "  Pacific       Income          GenderPop  \n",
      "0   0.04%  $78,765.40          2872643M_F  \n",
      "1   0.02%  $72,838.94   3249650M_3455936F  \n",
      "2   0.02%  $51,201.83   4861973M_5038598F  \n",
      "3   0.03%  $62,820.83   2692166M_2727005F  \n",
      "4   0.02%  $38,909.92   1451723M_1536358F  \n",
      "   Unnamed: 0          State  TotalPop Hispanic   White   Black Native  Asian  \\\n",
      "0           0       Missouri   6045448    4.04%  77.51%  14.12%  0.36%  1.62%   \n",
      "1           1        Montana   1014699    3.27%  86.42%   0.43%  7.06%  0.57%   \n",
      "2           2       Nebraska   1869365    9.20%  81.14%   4.96%  0.86%  1.86%   \n",
      "3           3         Nevada   2798636   27.10%  53.24%   7.74%  1.09%  7.10%   \n",
      "4           4  New Hampshire   1324201    3.32%  91.32%   1.23%  0.14%  2.19%   \n",
      "\n",
      "  Pacific       Income          GenderPop  \n",
      "0   0.10%  $49,763.99   2964003M_3081445F  \n",
      "1   0.07%  $47,645.68           510163M_F  \n",
      "2   0.06%  $55,916.47     929606M_939759F  \n",
      "3   0.57%  $55,526.53   1407735M_1390901F  \n",
      "4   0.02%  $68,728.86     653484M_670717F  \n",
      "   Unnamed: 0         State  TotalPop Hispanic   White   Black Native  Asian  \\\n",
      "0           0          Ohio  11575977    3.67%  75.90%  16.21%  0.17%  1.62%   \n",
      "1           1      Oklahoma   3849733   10.08%  66.06%   8.31%  6.72%  1.80%   \n",
      "2           2        Oregon   3939233   11.44%  78.40%   1.73%  1.00%  3.59%   \n",
      "3           3  Pennsylvania  12779559    6.13%  77.38%  11.63%  0.12%  2.80%   \n",
      "4           4   Puerto Rico   3583073   98.89%   0.77%   0.09%  0.00%  0.08%   \n",
      "\n",
      "  Pacific       Income          GenderPop  \n",
      "0   0.02%  $49,655.25   5662893M_5913084F  \n",
      "1   0.11%  $48,100.85   1906944M_1942789F  \n",
      "2   0.35%  $54,271.90   1948453M_1990780F  \n",
      "3   0.02%  $56,170.46   6245344M_6534215F  \n",
      "4   0.00%  $20,720.54   1713860M_1869213F  \n",
      "   Unnamed: 0           State  TotalPop Hispanic   White   Black Native  \\\n",
      "0           0      New Jersey   8904413   18.75%  56.49%  14.39%  0.12%   \n",
      "1           1      New Mexico   2084117   45.28%  40.70%   1.76%  9.25%   \n",
      "2           2        New York  19673174   17.24%  56.47%  15.67%  0.32%   \n",
      "3           3  North Carolina   9845333    8.46%  64.60%  21.40%  1.09%   \n",
      "4           4    North Dakota    721640    2.83%  87.45%   1.28%  5.65%   \n",
      "\n",
      "   Asian Pacific       Income           GenderPop  \n",
      "0  8.16%   0.03%  $76,581.08    4343027M_4561386F  \n",
      "1  1.23%   0.04%  $47,329.97    1032414M_1051703F  \n",
      "2  7.90%   0.02%  $64,290.75   9541801M_10131373F  \n",
      "3  2.32%   0.05%  $49,937.46    4795408M_5049925F  \n",
      "4  0.96%     NaN  $58,188.11      367963M_353677F  \n",
      "   Unnamed: 0     State  TotalPop Hispanic   White   Black Native   Asian  \\\n",
      "0           0   Georgia  10006693    8.42%  54.29%  32.09%  0.19%   3.10%   \n",
      "1           1    Hawaii   1406299    9.19%  25.03%   2.05%  0.14%  36.59%   \n",
      "2           2     Idaho   1616547   11.51%  83.14%   0.57%  1.47%   1.14%   \n",
      "3           3  Illinois  12873761   15.60%  60.86%  17.11%  0.12%   4.48%   \n",
      "4           4   Indiana   6568645    6.54%  78.43%  11.19%  0.19%   1.58%   \n",
      "\n",
      "  Pacific       Income          GenderPop  \n",
      "0   0.05%  $50,811.08   4883331M_5123362F  \n",
      "1   8.76%  $73,264.43     709871M_696428F  \n",
      "2   0.13%  $48,017.32     810464M_806083F  \n",
      "3   0.02%  $59,587.05   6316899M_6556862F  \n",
      "4   0.03%  $48,616.23   3235263M_3333382F  \n",
      "   Unnamed: 0      State  TotalPop Hispanic   White   Black Native  Asian  \\\n",
      "0           0       Iowa   3093526    5.30%  87.72%   3.26%  0.29%  1.70%   \n",
      "1           1     Kansas   2892987   11.64%  75.96%   6.57%  0.73%  2.33%   \n",
      "2           2   Kentucky   4397353    3.22%  85.23%   8.27%  0.17%  1.13%   \n",
      "3           3  Louisiana   4625253    4.87%  54.98%  36.33%  0.48%  1.67%   \n",
      "4           4      Maine   1329100    1.43%  93.71%   1.13%  0.79%  0.97%   \n",
      "\n",
      "  Pacific       Income          GenderPop  \n",
      "0   0.06%  $53,017.75   1534595M_1558931F  \n",
      "1     NaN  $53,885.61   1439862M_1453125F  \n",
      "2   0.05%  $45,285.80   2164208M_2233145F  \n",
      "3   0.04%  $44,957.99   2261156M_2364097F  \n",
      "4   0.02%  $49,181.97     650081M_679019F  \n",
      "   Unnamed: 0                 State  TotalPop Hispanic   White   Black Native  \\\n",
      "0           0              Colorado   5278906   20.78%  69.90%   3.55%  0.57%   \n",
      "1           1           Connecticut   3593222   15.60%  67.68%  10.35%  0.13%   \n",
      "2           2              Delaware    926454    8.82%  64.63%  20.74%  0.26%   \n",
      "3           3  District of Columbia    647484    9.17%  33.10%  51.78%  0.20%   \n",
      "4           4               Florida  19645772   21.34%  59.08%  15.17%  0.21%   \n",
      "\n",
      "   Asian Pacific       Income           GenderPop  \n",
      "0  2.66%     NaN  $64,657.80    2648667M_2630239F  \n",
      "1  4.02%   0.02%  $76,146.56    1751607M_1841615F  \n",
      "2  3.27%     NaN  $61,827.98      448413M_478041F  \n",
      "3  3.38%   0.03%  $75,466.36      306674M_340810F  \n",
      "4  2.28%   0.05%  $50,690.19   9600009M_10045763F  \n",
      "   Unnamed: 0       State  TotalPop Hispanic   White   Black  Native   Asian  \\\n",
      "0           0     Alabama   4830620    3.75%  61.88%  31.25%   0.45%   1.05%   \n",
      "1           1      Alaska    733375    5.91%  60.91%   2.85%  16.39%   5.45%   \n",
      "2           2     Arizona   6641928   29.57%  57.12%   3.85%   4.36%   2.88%   \n",
      "3           3    Arkansas   2958208    6.22%  71.14%  18.97%   0.52%   1.14%   \n",
      "4           4  California  38421464   37.29%  40.22%   5.68%   0.41%  13.05%   \n",
      "\n",
      "  Pacific       Income            GenderPop  \n",
      "0   0.03%  $43,296.36     2341093M_2489527F  \n",
      "1   1.06%  $70,354.74       384160M_349215F  \n",
      "2   0.17%  $54,207.82     3299088M_3342840F  \n",
      "3   0.15%  $41,935.63     1451913M_1506295F  \n",
      "4   0.35%  $67,264.78   19087135M_19334329F  \n"
     ]
    }
   ],
   "source": [
    "import pandas as pd\n",
    "import numpy as np\n",
    "import matplotlib.pyplot as plt\n",
    "import glob\n",
    "\n",
    "files = glob.glob(\"states*.csv\")\n",
    "\n",
    "df_list = []\n",
    "for filename in files:\n",
    "  data = pd.read_csv(filename)\n",
    "  df_list.append(data)\n",
    "  print(data.head())"
   ]
  },
  {
   "cell_type": "markdown",
   "metadata": {},
   "source": [
    "2. It will be easier to inspect this data once we have it in a DataFrame. You can't even call `.head()` on these `csv`s! How are you supposed to read them?\n",
    "\n",
    "   Using `glob`, loop through the census files available and load them into DataFrames. Then, concatenate all of those DataFrames together into one DataFrame, called something like `us_census`."
   ]
  },
  {
   "cell_type": "code",
   "execution_count": 3,
   "metadata": {},
   "outputs": [],
   "source": [
    "import pandas as pd\n",
    "import numpy as np\n",
    "import matplotlib.pyplot as plt"
   ]
  },
  {
   "cell_type": "markdown",
   "metadata": {},
   "source": [
    "3. Look at the `.columns` and the `.dtypes` of the `us_census` DataFrame. Are those datatypes going to hinder you as you try to make histograms?"
   ]
  },
  {
   "cell_type": "code",
   "execution_count": 4,
   "metadata": {},
   "outputs": [
    {
     "name": "stdout",
     "output_type": "stream",
     "text": [
      "Index(['Unnamed: 0', 'State', 'TotalPop', 'Hispanic', 'White', 'Black',\n",
      "       'Native', 'Asian', 'Pacific', 'Income', 'GenderPop'],\n",
      "      dtype='object')\n",
      "Unnamed: 0     int64\n",
      "State         object\n",
      "TotalPop       int64\n",
      "Hispanic      object\n",
      "White         object\n",
      "Black         object\n",
      "Native        object\n",
      "Asian         object\n",
      "Pacific       object\n",
      "Income        object\n",
      "GenderPop     object\n",
      "dtype: object\n"
     ]
    }
   ],
   "source": [
    "print(df_list[0].columns)\n",
    "print(df_list[0].dtypes)"
   ]
  },
  {
   "cell_type": "markdown",
   "metadata": {},
   "source": [
    "4. Look at the `head()` of the DataFrame so that you can understand why some of these `dtypes` are objects instead of integers or floats.\n",
    "\n",
    "   Start to make a plan for how to convert these columns into the right types for manipulation."
   ]
  },
  {
   "cell_type": "markdown",
   "metadata": {},
   "source": [
    "To understand why some data types are objects instead of integers or floats, we have to examine the first few rows of the DataFrame using the `.head()` method. This will help us to identify any non-numeric characters or formatting issues in the columns.\n",
    "\n",
    "Here's a plan to convert these columns into the right types:\n",
    "\n",
    "1. **Identify Non-Numeric Characters**: Look for symbols like `$`, `%`, or letters that might be causing the column to be read as an object.\n",
    "\n",
    "2. **Remove Non-Numeric Characters**:\n",
    "   - Use string manipulation or regular expressions to remove unwanted characters.\n",
    "   - For example, remove `$` from the `Income` column and `%` from percentage columns.\n",
    "\n",
    "3. **Convert to Numeric Types**:\n",
    "   - Use `pd.to_numeric()` to convert cleaned columns to `float` or `int`.\n",
    "   - Handle any errors or missing values during conversion.\n",
    "\n",
    "4. **Verify Conversion**:\n",
    "   - Check the data types again using `.dtypes` to ensure successful conversion.\n",
    "\n",
    "By following these steps, the DataFrame will be ready for numerical analysis and visualization."
   ]
  },
  {
   "cell_type": "markdown",
   "metadata": {},
   "source": [
    "## Regex to the Rescue"
   ]
  },
  {
   "cell_type": "markdown",
   "metadata": {},
   "source": [
    "5. Use regex to turn the `Income` column into a format that is ready for conversion into a numerical type."
   ]
  },
  {
   "cell_type": "code",
   "execution_count": 12,
   "metadata": {},
   "outputs": [
    {
     "name": "stdout",
     "output_type": "stream",
     "text": [
      "   Unnamed: 0       State  TotalPop Hispanic   White   Black  Native   Asian  \\\n",
      "0           0     Alabama   4830620    3.75%  61.88%  31.25%   0.45%   1.05%   \n",
      "1           1      Alaska    733375    5.91%  60.91%   2.85%  16.39%   5.45%   \n",
      "2           2     Arizona   6641928   29.57%  57.12%   3.85%   4.36%   2.88%   \n",
      "3           3    Arkansas   2958208    6.22%  71.14%  18.97%   0.52%   1.14%   \n",
      "4           4  California  38421464   37.29%  40.22%   5.68%   0.41%  13.05%   \n",
      "\n",
      "  Pacific       Income            GenderPop  \n",
      "0   0.03%  $43,296.36     2341093M_2489527F  \n",
      "1   1.06%  $70,354.74       384160M_349215F  \n",
      "2   0.17%  $54,207.82     3299088M_3342840F  \n",
      "3   0.15%  $41,935.63     1451913M_1506295F  \n",
      "4   0.35%  $67,264.78   19087135M_19334329F  \n",
      "   Unnamed: 0           State  TotalPop Hispanic   White   Black Native  \\\n",
      "0           0    Rhode Island   1053661   13.36%  74.33%   5.68%  0.35%   \n",
      "1           1  South Carolina   4777576    5.06%  62.89%  28.75%  0.29%   \n",
      "2           2    South Dakota    843190    3.24%  82.50%   1.42%  9.42%   \n",
      "3           3       Tennessee   6499615    4.72%  73.49%  18.28%  0.23%   \n",
      "4           4           Texas  26538614   38.05%  44.69%  11.65%  0.26%   \n",
      "\n",
      "   Asian Pacific      Income            GenderPop  \n",
      "0  3.25%   0.04%  59,125.27       510388M_543273F  \n",
      "1  1.25%   0.05%  46,296.81     2322409M_2455167F  \n",
      "2  1.02%   0.04%  51,805.41       423477M_419713F  \n",
      "3  1.41%   0.04%  47,328.08     3167756M_3331859F  \n",
      "4  3.67%   0.07%  55,874.52   13171316M_13367298F  \n"
     ]
    },
    {
     "name": "stderr",
     "output_type": "stream",
     "text": [
      "<>:17: SyntaxWarning: invalid escape sequence '\\$'\n",
      "<>:17: SyntaxWarning: invalid escape sequence '\\$'\n",
      "/var/folders/p3/flb1440j2m91zj4hzc5j50t80000gn/T/ipykernel_5924/2707514674.py:17: SyntaxWarning: invalid escape sequence '\\$'\n",
      "  df['Income'] = df['Income'].replace({'\\$': ''}, regex=True)\n"
     ]
    }
   ],
   "source": [
    "import pandas as pd\n",
    "import numpy as np\n",
    "import glob \n",
    "import matplotlib.pyplot as plt\n",
    "\n",
    "files = glob.glob(\"states*.csv\")\n",
    "\n",
    "df_list = []\n",
    "for filename in files:\n",
    "  data = pd.read_csv(filename)\n",
    "  df_list.append(data)\n",
    "\n",
    "print(data.head())\n",
    "\n",
    "# Apply regex to remove '$' from the 'Income' column in each DataFrame\n",
    "for df in df_list:\n",
    "    df['Income'] = df['Income'].replace({'\\$': ''}, regex=True)\n",
    "\n",
    "print(df_list[0].head())"
   ]
  },
  {
   "cell_type": "markdown",
   "metadata": {},
   "source": [
    "6. Look at the `GenderPop` column. We are going to want to separate this into two columns, the `Men` column, and the `Women` column.\n",
    "\n",
    "   Split the column into those two new columns using `str.split` and separating out those results."
   ]
  },
  {
   "cell_type": "code",
   "execution_count": null,
   "metadata": {},
   "outputs": [],
   "source": []
  },
  {
   "cell_type": "markdown",
   "metadata": {},
   "source": [
    "7. Convert both of the columns into numerical datatypes.\n",
    "\n",
    "   There is still an `M` or an `F` character in each entry! We should remove those before we convert."
   ]
  },
  {
   "cell_type": "code",
   "execution_count": null,
   "metadata": {},
   "outputs": [],
   "source": []
  },
  {
   "cell_type": "markdown",
   "metadata": {},
   "source": [
    "8. Now you should have the columns you need to make the graph and make sure your boss does not slam a ruler angrily on your desk because you've wasted your whole day cleaning your data with no results to show!\n",
    "\n",
    "   Use matplotlib to make a scatterplot!\n",
    "   \n",
    "   ```py\n",
    "   plt.scatter(the_women_column, the_income_column)\n",
    "   ```\n",
    "   \n",
    "   Remember to call `plt.show()` to see the graph!"
   ]
  },
  {
   "cell_type": "code",
   "execution_count": null,
   "metadata": {},
   "outputs": [],
   "source": []
  },
  {
   "cell_type": "markdown",
   "metadata": {},
   "source": [
    "9. You want to double check your work. You know from experience that these monstrous csv files probably have `nan` values in them! Print out your column with the number of women per state to see.\n",
    "\n",
    "   We can fill in those `nan`s by using pandas' `.fillna()` function.\n",
    "   \n",
    "   You have the `TotalPop` per state, and you have the `Men` per state. As an estimate for the `nan` values in the `Women` column, you could use the `TotalPop` of that state minus the `Men` for that state.\n",
    "   \n",
    "   Print out the `Women` column after filling the `nan` values to see if it worked!"
   ]
  },
  {
   "cell_type": "code",
   "execution_count": null,
   "metadata": {},
   "outputs": [],
   "source": []
  },
  {
   "cell_type": "markdown",
   "metadata": {},
   "source": [
    "10. We forgot to check for duplicates! Use `.duplicated()` on your `census` DataFrame to see if we have duplicate rows in there."
   ]
  },
  {
   "cell_type": "code",
   "execution_count": null,
   "metadata": {},
   "outputs": [],
   "source": []
  },
  {
   "cell_type": "markdown",
   "metadata": {},
   "source": [
    "11. Drop those duplicates using the `.drop_duplicates()` function."
   ]
  },
  {
   "cell_type": "code",
   "execution_count": null,
   "metadata": {},
   "outputs": [],
   "source": []
  },
  {
   "cell_type": "markdown",
   "metadata": {},
   "source": [
    "12. Make the scatterplot again. Now, it should be perfect! Your job is secure, for now."
   ]
  },
  {
   "cell_type": "code",
   "execution_count": null,
   "metadata": {},
   "outputs": [],
   "source": []
  },
  {
   "cell_type": "markdown",
   "metadata": {},
   "source": [
    "## Histogram of Races"
   ]
  },
  {
   "cell_type": "markdown",
   "metadata": {},
   "source": [
    "13. Now your boss wants you to make a bunch of histograms out of the race data that you have. Look at the `.columns` again to see what the race categories are."
   ]
  },
  {
   "cell_type": "code",
   "execution_count": null,
   "metadata": {},
   "outputs": [],
   "source": []
  },
  {
   "cell_type": "markdown",
   "metadata": {},
   "source": [
    "14. Try to make a histogram for each one!\n",
    "\n",
    "    You will have to get the columns into the numerical format, and those percentage signs will have to go.\n",
    "    \n",
    "    Don't forget to fill the `nan` values with something that makes sense! You probably dropped the duplicate rows when making your last graph, but it couldn't hurt to check for duplicates again."
   ]
  },
  {
   "cell_type": "code",
   "execution_count": null,
   "metadata": {},
   "outputs": [],
   "source": []
  },
  {
   "cell_type": "markdown",
   "metadata": {},
   "source": [
    "## Get Creative"
   ]
  },
  {
   "cell_type": "markdown",
   "metadata": {},
   "source": [
    "15. Phew. You've definitely impressed your boss on your first day of work.\n",
    "\n",
    "    But is there a way you really convey the power of pandas and Python over the drudgery of `csv` and Excel?\n",
    "    \n",
    "    Try to make some more interesting graphs to show your boss, and the world! You may need to clean the data even more to do it, or the cleaning you have already done may give you the ease of manipulation you've been searching for."
   ]
  },
  {
   "cell_type": "code",
   "execution_count": null,
   "metadata": {},
   "outputs": [],
   "source": []
  }
 ],
 "metadata": {
  "kernelspec": {
   "display_name": "Python 3",
   "language": "python",
   "name": "python3"
  },
  "language_info": {
   "codemirror_mode": {
    "name": "ipython",
    "version": 3
   },
   "file_extension": ".py",
   "mimetype": "text/x-python",
   "name": "python",
   "nbconvert_exporter": "python",
   "pygments_lexer": "ipython3",
   "version": "3.12.4"
  }
 },
 "nbformat": 4,
 "nbformat_minor": 2
}
